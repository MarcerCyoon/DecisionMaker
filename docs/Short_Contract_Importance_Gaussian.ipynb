{
 "cells": [
  {
   "cell_type": "code",
   "execution_count": 1,
   "metadata": {},
   "outputs": [],
   "source": [
    "import pandas as pd\n",
    "\n",
    "from sklearn.mixture import GaussianMixture\n",
    "\n",
    "import numpy as np\n",
    "np.set_printoptions(precision=6)\n",
    "\n",
    "import matplotlib.pyplot as plt\n",
    "from mpl_toolkits.mplot3d import Axes3D\n",
    "\n",
    "from scipy.stats import multivariate_normal"
   ]
  },
  {
   "cell_type": "code",
   "execution_count": 2,
   "metadata": {},
   "outputs": [
    {
     "data": {
      "text/html": [
       "<div>\n",
       "<style scoped>\n",
       "    .dataframe tbody tr th:only-of-type {\n",
       "        vertical-align: middle;\n",
       "    }\n",
       "\n",
       "    .dataframe tbody tr th {\n",
       "        vertical-align: top;\n",
       "    }\n",
       "\n",
       "    .dataframe thead th {\n",
       "        text-align: right;\n",
       "    }\n",
       "</style>\n",
       "<table border=\"1\" class=\"dataframe\">\n",
       "  <thead>\n",
       "    <tr style=\"text-align: right;\">\n",
       "      <th></th>\n",
       "      <th>Name (Season)</th>\n",
       "      <th>Age</th>\n",
       "      <th>OVR</th>\n",
       "      <th>POT</th>\n",
       "    </tr>\n",
       "  </thead>\n",
       "  <tbody>\n",
       "    <tr>\n",
       "      <th>0</th>\n",
       "      <td>Kevin Love (2020)</td>\n",
       "      <td>31</td>\n",
       "      <td>65</td>\n",
       "      <td>65</td>\n",
       "    </tr>\n",
       "    <tr>\n",
       "      <th>1</th>\n",
       "      <td>Kevin Love (2021)</td>\n",
       "      <td>32</td>\n",
       "      <td>65</td>\n",
       "      <td>65</td>\n",
       "    </tr>\n",
       "    <tr>\n",
       "      <th>2</th>\n",
       "      <td>Kevin Love (2022)</td>\n",
       "      <td>33</td>\n",
       "      <td>64</td>\n",
       "      <td>64</td>\n",
       "    </tr>\n",
       "    <tr>\n",
       "      <th>3</th>\n",
       "      <td>Kevin Love (2023)</td>\n",
       "      <td>34</td>\n",
       "      <td>65</td>\n",
       "      <td>65</td>\n",
       "    </tr>\n",
       "    <tr>\n",
       "      <th>4</th>\n",
       "      <td>Kevin Love (2024)</td>\n",
       "      <td>35</td>\n",
       "      <td>65</td>\n",
       "      <td>65</td>\n",
       "    </tr>\n",
       "  </tbody>\n",
       "</table>\n",
       "</div>"
      ],
      "text/plain": [
       "       Name (Season)  Age  OVR  POT\n",
       "0  Kevin Love (2020)   31   65   65\n",
       "1  Kevin Love (2021)   32   65   65\n",
       "2  Kevin Love (2022)   33   64   64\n",
       "3  Kevin Love (2023)   34   65   65\n",
       "4  Kevin Love (2024)   35   65   65"
      ]
     },
     "execution_count": 2,
     "metadata": {},
     "output_type": "execute_result"
    }
   ],
   "source": [
    "data = pd.read_csv('for_tus.csv')\n",
    "data.head()"
   ]
  },
  {
   "cell_type": "code",
   "execution_count": 3,
   "metadata": {},
   "outputs": [
    {
     "name": "stdout",
     "output_type": "stream",
     "text": [
      "(13962, 4)\n"
     ]
    }
   ],
   "source": [
    "data_np = data.to_numpy()\n",
    "print(data_np.shape)"
   ]
  },
  {
   "cell_type": "code",
   "execution_count": 4,
   "metadata": {},
   "outputs": [
    {
     "data": {
      "text/plain": [
       "<matplotlib.collections.PathCollection at 0x1bc39ab0>"
      ]
     },
     "execution_count": 4,
     "metadata": {},
     "output_type": "execute_result"
    },
    {
     "data": {
      "image/png": "[encoded data removed]",
      "text/plain": [
       "<Figure size 432x288 with 1 Axes>"
      ]
     },
     "metadata": {
      "needs_background": "light"
     },
     "output_type": "display_data"
    }
   ],
   "source": [
    "# visualize all players\n",
    "plt.scatter(data_np[:,1], data_np[:,2])"
   ]
  },
  {
   "cell_type": "code",
   "execution_count": 5,
   "metadata": {},
   "outputs": [
    {
     "name": "stdout",
     "output_type": "stream",
     "text": [
      "[['Jusuf Nurkic (2036)' 41 41 41]\n",
      " ['Vince Carter (2020)' 43 47 47]\n",
      " ['Jamal Crawford Sr. (2020)' 40 54 54]\n",
      " ['Jamal Crawford Sr. (2021)' 41 47 47]\n",
      " ['Pau Gasol (2021)' 40 49 49]\n",
      " ['Luka Doncic (2039)' 40 50 50]\n",
      " ['Luka Doncic (2040)' 41 45 45]\n",
      " ['Jon Leuer (2036)' 47 38 38]\n",
      " ['Marc Gasol (2025)' 40 42 42]\n",
      " ['Zach Randolph (2022)' 40 45 45]\n",
      " ['LeBron James (2025)' 40 59 59]\n",
      " ['LeBron James (2026)' 41 52 56]\n",
      " ['LeBron James (2027)' 42 43 43]\n",
      " ['Udonis Haslem Sr. (2020)' 40 35 35]\n",
      " ['Marco Belinelli Sr. (2036)' 50 51 51]\n",
      " ['Travis Wear (2036)' 45 35 35]\n",
      " ['Bojan Bogdanovic (2036)' 47 46 46]\n",
      " ['Nikola Jokic (2035)' 40 38 38]\n",
      " ['DeAndre Ayton (2039)' 40 50 50]\n",
      " ['Jamal Murray (2037)' 40 30 30]\n",
      " ['Damien Wilkins Sr. (2020)' 40 41 41]\n",
      " ['Jalen Smith (2040)' 40 62 62]]\n"
     ]
    }
   ],
   "source": [
    "# ignore, this is just my curiosity\n",
    "old = data_np[data_np[:,1] >= 40]\n",
    "print(old)"
   ]
  },
  {
   "cell_type": "code",
   "execution_count": 6,
   "metadata": {},
   "outputs": [
    {
     "name": "stdout",
     "output_type": "stream",
     "text": [
      "[['Myles Turner (2027)' 31 75 75]\n",
      " ['Jaxson Hayes (2025)' 25 78 79]\n",
      " ['Jaxson Hayes (2026)' 26 77 78]\n",
      " ['Jaxson Hayes (2027)' 27 78 80]\n",
      " ['Jaxson Hayes (2028)' 28 76 76]\n",
      " ['R.J. Barrett (2024)' 23 77 83]\n",
      " ['R.J. Barrett (2025)' 24 82 86]\n",
      " ['R.J. Barrett (2026)' 25 85 87]\n",
      " ['R.J. Barrett (2026)' 25 83 85]\n",
      " ['R.J. Barrett (2027)' 26 87 88]\n",
      " ['R.J. Barrett (2028)' 27 86 87]\n",
      " ['R.J. Barrett (2029)' 28 83 84]\n",
      " ['R.J. Barrett (2030)' 29 85 85]\n",
      " ['R.J. Barrett (2031)' 30 83 83]\n",
      " ['R.J. Barrett (2032)' 31 81 81]\n",
      " ['R.J. Barrett (2033)' 32 82 82]\n",
      " ['R.J. Barrett (2034)' 33 79 79]\n",
      " ['R.J. Barrett (2035)' 34 79 79]\n",
      " ['R.J. Barrett (2036)' 35 76 76]\n",
      " ['Joel Embiid (2021)' 27 75 77]\n",
      " ['Romeo Langford (2028)' 28 76 76]\n",
      " ['Romeo Langford (2029)' 29 77 77]\n",
      " ['Stephen Curry (2020)' 32 76 76]\n",
      " ['Stephen Curry (2021)' 33 76 76]\n",
      " ['Stephen Curry (2022)' 34 76 76]\n",
      " ['Stephen Curry (2023)' 35 76 76]\n",
      " ['James Harden (2020)' 30 76 76]\n",
      " ['Luka Doncic (2022)' 23 80 84]\n",
      " ['Luka Doncic (2023)' 24 79 83]\n",
      " ['Luka Doncic (2024)' 25 79 82]\n",
      " ['Luka Doncic (2025)' 26 82 84]\n",
      " ['Luka Doncic (2026)' 27 82 83]\n",
      " ['Luka Doncic (2027)' 28 78 79]\n",
      " ['Luka Doncic (2028)' 29 75 75]\n",
      " ['Luka Doncic (2029)' 30 77 77]\n",
      " ['Luka Doncic (2030)' 31 77 77]\n",
      " ['LeBron James (2020)' 35 77 77]\n",
      " ['Giannis Antetokounmpo (2020)' 25 76 78]\n",
      " ['Giannis Antetokounmpo (2021)' 26 78 80]\n",
      " ['Giannis Antetokounmpo (2022)' 27 81 82]\n",
      " ['Giannis Antetokounmpo (2023)' 28 78 78]\n",
      " ['Giannis Antetokounmpo (2024)' 29 78 78]\n",
      " ['Giannis Antetokounmpo (2025)' 30 79 79]\n",
      " ['Giannis Antetokounmpo (2026)' 31 75 77]\n",
      " ['Anthony Davis (2020)' 27 75 77]\n",
      " ['Anthony Davis (2021)' 28 76 76]\n",
      " ['Kevin Durant (2020)' 31 77 77]\n",
      " ['Zion Williamson (2024)' 23 81 88]\n",
      " ['Zion Williamson (2025)' 24 83 84]\n",
      " ['Zion Williamson (2026)' 25 87 88]\n",
      " ['Zion Williamson (2027)' 26 90 92]\n",
      " ['Zion Williamson (2028)' 27 88 88]\n",
      " ['Zion Williamson (2029)' 28 86 86]\n",
      " ['Zion Williamson (2030)' 29 83 83]\n",
      " ['Zion Williamson (2031)' 30 83 83]\n",
      " ['Zion Williamson (2032)' 31 79 79]\n",
      " ['Zion Williamson (2033)' 32 76 76]\n",
      " ['Zion Williamson (2034)' 33 76 76]\n",
      " ['Zion Williamson (2035)' 34 76 76]\n",
      " ['Kawhi Leonard (2020)' 28 76 77]\n",
      " ['Kawhi Leonard (2021)' 29 75 75]\n",
      " ['Donovan Mitchell (2022)' 25 75 79]\n",
      " ['Donovan Mitchell (2023)' 26 75 78]\n",
      " ['Donovan Mitchell (2026)' 29 77 77]\n",
      " [\"De'Aaron Fox (2023)\" 25 75 77]\n",
      " [\"De'Aaron Fox (2025)\" 27 76 78]\n",
      " ['Daniel Lewis (2032)' 29 75 75]\n",
      " ['Daniel Lewis (2033)' 30 76 76]\n",
      " ['Corban Gray (2027)' 24 79 84]\n",
      " ['Corban Gray (2028)' 25 84 86]\n",
      " ['Corban Gray (2029)' 26 83 84]\n",
      " ['Corban Gray (2030)' 27 83 84]\n",
      " ['Corban Gray (2031)' 28 84 84]\n",
      " ['Corban Gray (2032)' 29 81 81]\n",
      " ['Corban Gray (2033)' 30 79 79]\n",
      " ['Corban Gray (2034)' 31 78 78]\n",
      " ['Corban Gray (2035)' 32 77 77]\n",
      " ['Jeff Davis (2029)' 27 76 76]\n",
      " ['Raidon Bird-Wright (2024)' 23 78 83]\n",
      " ['Raidon Bird-Wright (2025)' 24 76 80]\n",
      " ['Raidon Bird-Wright (2026)' 25 80 81]\n",
      " ['Raidon Bird-Wright (2027)' 26 79 81]\n",
      " ['Raidon Bird-Wright (2028)' 27 77 78]\n",
      " ['Raidon Bird-Wright (2029)' 28 75 76]\n",
      " ['Anand Brogdon (2026)' 25 76 79]\n",
      " ['Anand Brogdon (2027)' 26 78 80]\n",
      " ['Anand Brogdon (2028)' 27 81 81]\n",
      " ['Anand Brogdon (2029)' 28 83 83]\n",
      " ['Anand Brogdon (2030)' 29 80 80]\n",
      " ['Anand Brogdon (2031)' 30 77 77]\n",
      " ['Theo Maledon (2025)' 24 79 84]\n",
      " ['Theo Maledon (2026)' 25 77 80]\n",
      " ['Theo Maledon (2027)' 26 77 79]\n",
      " ['Theo Maledon (2028)' 27 76 76]\n",
      " ['Theo Maledon (2029)' 28 79 79]\n",
      " ['Theo Maledon (2030)' 29 79 79]\n",
      " ['Theo Maledon (2031)' 30 80 80]\n",
      " ['Theo Maledon (2032)' 31 76 76]\n",
      " ['Theo Maledon (2033)' 32 76 76]\n",
      " ['Anthony Edwards (2026)' 24 75 80]\n",
      " ['Anthony Edwards (2027)' 25 76 79]\n",
      " ['Anthony Edwards (2030)' 28 76 77]\n",
      " ['Jalen Smith (2025)' 25 75 77]\n",
      " ['Jalen Smith (2027)' 27 81 83]\n",
      " ['Jalen Smith (2028)' 28 79 80]\n",
      " ['Jalen Smith (2029)' 29 81 81]\n",
      " ['Jalen Smith (2030)' 30 78 78]\n",
      " ['Jalen Smith (2031)' 31 79 79]\n",
      " ['Jalen Smith (2032)' 32 75 75]\n",
      " ['Jalen Smith (2033)' 33 76 76]\n",
      " ['Scottie Lewis (2025)' 25 75 77]\n",
      " ['Scottie Lewis (2027)' 27 78 79]\n",
      " ['Scottie Lewis (2028)' 28 76 77]\n",
      " ['Scottie Lewis (2029)' 29 78 78]\n",
      " ['Scottie Lewis (2030)' 30 78 78]\n",
      " ['Scottie Lewis (2031)' 31 75 75]\n",
      " ['Josh Christopher (2029)' 28 75 75]\n",
      " ['Makur Maker (2030)' 28 76 77]\n",
      " ['Makur Maker (2032)' 30 75 75]\n",
      " ['Makur Maker (2033)' 31 75 75]\n",
      " ['B.J. Boston (2027)' 26 75 77]\n",
      " ['Jason Harris (2025)' 24 79 83]\n",
      " ['Jason Harris (2026)' 25 83 85]\n",
      " ['Jason Harris (2027)' 26 86 89]\n",
      " ['Jason Harris (2028)' 27 88 89]\n",
      " ['Jason Harris (2029)' 28 88 89]\n",
      " ['Jason Harris (2030)' 29 88 88]\n",
      " ['Jason Harris (2031)' 30 88 88]\n",
      " ['Jason Harris (2032)' 31 84 84]\n",
      " ['Jason Harris (2033)' 32 84 84]\n",
      " ['Jason Harris (2034)' 33 83 83]\n",
      " ['Jason Harris (2035)' 34 80 80]\n",
      " ['Jason Harris (2036)' 35 80 80]\n",
      " ['Jason Harris (2037)' 36 75 75]\n",
      " ['C.J. Walker (2027)' 26 76 79]\n",
      " ['C.J. Walker (2028)' 27 75 75]\n",
      " ['Darius Miles (2031)' 26 76 78]\n",
      " ['Darius Miles (2032)' 27 75 75]\n",
      " ['Darius Miles (2033)' 28 76 76]\n",
      " ['Sleepy Floyd (2031)' 28 76 76]\n",
      " ['Sleepy Floyd (2032)' 29 75 75]\n",
      " ['Fat Lever (2028)' 25 77 79]\n",
      " ['Fat Lever (2029)' 26 80 82]\n",
      " ['Fat Lever (2030)' 27 78 79]\n",
      " ['Fat Lever (2031)' 28 75 76]\n",
      " ['Fat Lever (2032)' 29 76 76]\n",
      " ['Fat Lever (2034)' 31 75 75]\n",
      " ['Fat Lever (2035)' 32 75 75]\n",
      " ['Maryl Dorey (2028)' 24 76 82]\n",
      " ['Chauncey Billups (2030)' 25 76 78]\n",
      " ['Tracy McGrady (2031)' 23 77 82]\n",
      " ['Tracy McGrady (2032)' 24 81 86]\n",
      " ['Tracy McGrady (2033)' 25 81 84]\n",
      " ['Tracy McGrady (2034)' 26 83 86]\n",
      " ['Tracy McGrady (2035)' 27 84 86]\n",
      " ['Tracy McGrady (2036)' 28 82 82]\n",
      " ['Tracy McGrady (2037)' 29 80 80]\n",
      " ['Tracy McGrady (2038)' 30 78 78]\n",
      " ['Tracy McGrady (2039)' 31 75 75]\n",
      " ['Tracy McGrady (2040)' 32 75 75]\n",
      " ['Wayman Tisdale (2029)' 22 75 84]\n",
      " ['Wayman Tisdale (2030)' 23 78 84]\n",
      " ['Wayman Tisdale (2031)' 24 80 85]\n",
      " ['Wayman Tisdale (2032)' 25 80 82]\n",
      " ['Wayman Tisdale (2033)' 26 78 80]\n",
      " ['Wayman Tisdale (2034)' 27 77 77]\n",
      " ['Wayman Tisdale (2035)' 28 75 77]\n",
      " ['Wayman Tisdale (2037)' 30 75 75]\n",
      " ['Wayman Tisdale (2038)' 31 75 75]\n",
      " ['Jon Koncak (2032)' 26 75 77]\n",
      " ['Jon Koncak (2033)' 27 78 79]\n",
      " ['Jon Koncak (2034)' 28 76 77]\n",
      " ['Detlef Schrempf (2031)' 25 76 78]\n",
      " ['Detlef Schrempf (2032)' 26 76 78]\n",
      " ['Mario Elie (2030)' 24 76 81]\n",
      " ['Mario Elie (2031)' 25 78 81]\n",
      " ['Mario Elie (2032)' 26 80 83]\n",
      " ['Mario Elie (2033)' 27 83 84]\n",
      " ['Mario Elie (2034)' 28 80 80]\n",
      " ['Mario Elie (2035)' 29 81 81]\n",
      " ['Mario Elie (2036)' 30 79 79]\n",
      " ['Mario Elie (2037)' 31 79 79]\n",
      " ['Mario Elie (2038)' 32 79 79]\n",
      " ['Mario Elie (2039)' 33 78 78]\n",
      " ['Mike Brown (2031)' 25 77 78]\n",
      " ['Mike Brown (2032)' 26 75 77]\n",
      " ['Mike Brown (2033)' 27 77 78]\n",
      " ['Antoine Walker (2033)' 24 76 82]\n",
      " ['Antoine Walker (2034)' 25 80 83]\n",
      " ['Antoine Walker (2035)' 26 81 84]\n",
      " ['Antoine Walker (2036)' 27 82 83]\n",
      " ['Antoine Walker (2037)' 28 84 85]\n",
      " ['Antoine Walker (2038)' 29 81 81]\n",
      " ['Antoine Walker (2039)' 30 80 80]\n",
      " ['Antoine Walker (2040)' 31 80 80]\n",
      " ['Kobe Bryant (2036)' 25 75 78]\n",
      " ['Kobe Bryant (2037)' 26 76 78]\n",
      " ['Kobe Bryant (2038)' 27 78 79]\n",
      " ['Kobe Bryant (2039)' 28 77 79]\n",
      " ['Stephon Marbury (2034)' 24 76 81]\n",
      " ['Stephon Marbury (2036)' 26 75 77]\n",
      " ['Stephon Marbury (2037)' 27 76 77]\n",
      " ['Allen Iverson (2032)' 24 77 80]\n",
      " ['Allen Iverson (2033)' 25 80 82]\n",
      " ['Allen Iverson (2034)' 26 79 81]\n",
      " ['Allen Iverson (2035)' 27 79 79]\n",
      " ['Allen Iverson (2036)' 28 79 79]\n",
      " ['Allen Iverson (2037)' 29 77 77]\n",
      " ['Allen Iverson (2038)' 30 75 75]\n",
      " [\"Jermaine O'Neal (2032)\" 21 77 87]\n",
      " [\"Jermaine O'Neal (2033)\" 22 80 86]\n",
      " [\"Jermaine O'Neal (2034)\" 23 84 91]\n",
      " [\"Jermaine O'Neal (2035)\" 24 82 85]\n",
      " [\"Jermaine O'Neal (2036)\" 25 81 83]\n",
      " [\"Jermaine O'Neal (2037)\" 26 82 82]\n",
      " [\"Jermaine O'Neal (2037)\" 26 79 80]\n",
      " [\"Jermaine O'Neal (2038)\" 27 77 79]\n",
      " [\"Jermaine O'Neal (2039)\" 28 77 77]\n",
      " ['Steven Smith (2032)' 23 76 84]\n",
      " ['Steven Smith (2033)' 24 77 83]\n",
      " ['Dan Issel (2037)' 27 75 75]\n",
      " ['Geoff Petrie (2033)' 23 81 86]\n",
      " ['Geoff Petrie (2034)' 24 83 89]\n",
      " ['Geoff Petrie (2035)' 25 88 91]\n",
      " ['Geoff Petrie (2036)' 26 89 91]\n",
      " ['Geoff Petrie (2037)' 27 92 93]\n",
      " ['Geoff Petrie (2038)' 28 93 93]\n",
      " ['Geoff Petrie (2039)' 29 92 92]\n",
      " ['Geoff Petrie (2040)' 30 89 89]\n",
      " ['Jodie Martin (2037)' 25 77 79]\n",
      " ['Jodie Martin (2038)' 26 78 80]\n",
      " ['Jodie Martin (2039)' 27 78 80]\n",
      " ['Jodie Martin (2040)' 28 79 79]\n",
      " ['Elric J. Harris (2035)' 22 77 85]\n",
      " ['Elric J. Harris (2036)' 23 84 89]\n",
      " ['Elric J. Harris (2037)' 24 88 92]\n",
      " ['Elric J. Harris (2038)' 25 89 91]\n",
      " ['Elric J. Harris (2039)' 26 87 88]\n",
      " ['Elric J. Harris (2040)' 27 89 89]\n",
      " ['Kenan Cabarkapa (2039)' 25 75 76]\n",
      " ['Kenan Cabarkapa (2040)' 26 75 76]\n",
      " [\"Shaquille O'Neal (2039)\" 22 76 83]\n",
      " [\"Shaquille O'Neal (2040)\" 23 80 83]]\n"
     ]
    }
   ],
   "source": [
    "# ignore, this is just my curiosity\n",
    "good = data_np[data_np[:, 2] >= 75]\n",
    "print(good)"
   ]
  },
  {
   "cell_type": "code",
   "execution_count": 7,
   "metadata": {},
   "outputs": [
    {
     "name": "stdout",
     "output_type": "stream",
     "text": [
      "[['Jaxson Hayes (2036)' 36 52 52]\n",
      " ['R.J. Barrett (2036)' 35 76 76]\n",
      " ['Jusuf Nurkic (2036)' 41 41 41]\n",
      " ...\n",
      " ['Ryan Ewing (2036)' 22 25 37]\n",
      " ['TyQuan Wilson (2036)' 22 23 33]\n",
      " ['Ruslan Howard (2036)' 22 27 40]]\n"
     ]
    },
    {
     "data": {
      "text/plain": [
       "<matplotlib.collections.PathCollection at 0x1cd52590>"
      ]
     },
     "execution_count": 7,
     "metadata": {},
     "output_type": "execute_result"
    },
    {
     "data": {
      "image/png": "[encoded data removed]",
      "text/plain": [
       "<Figure size 432x288 with 1 Axes>"
      ]
     },
     "metadata": {
      "needs_background": "light"
     },
     "output_type": "display_data"
    }
   ],
   "source": [
    "# ignore, this is just my curiosity\n",
    "players_2036 = np.array([dp for dp in data_np if dp[0][-3:] == '36)'])\n",
    "print(players_2036)\n",
    "plt.scatter(players_2036[:,1], players_2036[:,2])\n"
   ]
  },
  {
   "cell_type": "code",
   "execution_count": 8,
   "metadata": {},
   "outputs": [
    {
     "name": "stdout",
     "output_type": "stream",
     "text": [
      "(156, 4)\n"
     ]
    }
   ],
   "source": [
    "# we will fit the gaussian on great players in their prime\n",
    "# (that is, age in [23, 28] and ovr >= 70)\n",
    "subset = data_np[data_np[:,1] >= 23]\n",
    "subset = subset[subset[:,1] <= 28]\n",
    "subset = subset[subset[:,2] >= 75]\n",
    "print(subset.shape)"
   ]
  },
  {
   "cell_type": "code",
   "execution_count": 9,
   "metadata": {},
   "outputs": [
    {
     "data": {
      "text/plain": [
       "GaussianMixture(covariance_type='diag', init_params='kmeans', max_iter=200,\n",
       "                means_init=None, n_components=1, n_init=3, precisions_init=None,\n",
       "                random_state=None, reg_covar=1e-06, tol=0.001, verbose=0,\n",
       "                verbose_interval=10, warm_start=False, weights_init=None)"
      ]
     },
     "execution_count": 9,
     "metadata": {},
     "output_type": "execute_result"
    }
   ],
   "source": [
    "# fit the Gaussian on those players\n",
    "# use a diagonal covariance matrix (i.e. no cross-correlation terms) for simplicity\n",
    "# the model performs similarly with & without those terms (i checked) so we can ignore them\n",
    "gm = GaussianMixture(n_components=1, covariance_type='diag', max_iter=200, n_init=3, verbose=0)\n",
    "X = np.array([subset[:,1], subset[:,2]]).T\n",
    "gm.fit(X)"
   ]
  },
  {
   "cell_type": "code",
   "execution_count": 10,
   "metadata": {},
   "outputs": [
    {
     "data": {
      "text/plain": [
       "<matplotlib.collections.PathCollection at 0x1cd73450>"
      ]
     },
     "execution_count": 10,
     "metadata": {},
     "output_type": "execute_result"
    },
    {
     "data": {
      "image/png": "[encoded data removed]",
      "text/plain": [
       "<Figure size 432x288 with 1 Axes>"
      ]
     },
     "metadata": {
      "needs_background": "light"
     },
     "output_type": "display_data"
    }
   ],
   "source": [
    "# plot samples from the Gaussian to check that it makes sense\n",
    "samples, labels = gm.sample(n_samples=1000)\n",
    "plt.scatter(samples[:,0], samples[:,1])"
   ]
  },
  {
   "cell_type": "code",
   "execution_count": 11,
   "metadata": {},
   "outputs": [
    {
     "name": "stdout",
     "output_type": "stream",
     "text": [
      "[[25.955128 79.384615]] [[1.524766 4.125377]]\n"
     ]
    }
   ],
   "source": [
    "# print the means and stdevs of the gaussians\n",
    "print(gm.means_, np.sqrt(gm.covariances_))"
   ]
  },
  {
   "cell_type": "code",
   "execution_count": 12,
   "metadata": {},
   "outputs": [],
   "source": [
    "# see latex thing for derivation of this function\n",
    "def get_desired_years(age, ovr):\n",
    "    a = 278603\n",
    "    b = -8.10721\n",
    "    mu_age = 25.955128\n",
    "    mu_ovr = 79.384615\n",
    "    sigma_age = 1.524766\n",
    "    sigma_ovr = 4.125377\n",
    "    \n",
    "    normalization = 1 / (2 * np.pi * sigma_age * sigma_ovr)\n",
    "    exponent = -.5 * ((((age - mu_age) / sigma_age) ** 2) + (((ovr - mu_ovr) / sigma_ovr) ** 2))\n",
    "    years = ((np.log(normalization) + exponent) / b) - np.log(a) / b\n",
    "    \n",
    "    if years < 2:\n",
    "        years = 2\n",
    "    elif years > 5:\n",
    "        years = 5\n",
    "    return years"
   ]
  },
  {
   "cell_type": "code",
   "execution_count": 13,
   "metadata": {},
   "outputs": [
    {
     "name": "stdout",
     "output_type": "stream",
     "text": [
      "Columns are OVRs from 70 to 100 by 5s, rows are ages from 21 to 35.\n",
      "Each entry is the desired contract length at that age and OVR.\n",
      "\n",
      "[[2.970488 2.720999 2.652703 2.765601 3.059691 3.534974 4.19145 ]\n",
      " [2.734123 2.484635 2.416339 2.529236 2.823326 3.298609 3.955085]\n",
      " [2.550813 2.301325 2.233029 2.345926 2.640016 3.115299 3.771775]\n",
      " [2.420558 2.171069 2.102773 2.21567  2.509761 2.985044 3.64152 ]\n",
      " [2.343357 2.093868 2.025572 2.138469 2.432559 2.907843 3.564319]\n",
      " [2.31921  2.069721 2.001426 2.114323 2.408413 2.883696 3.540172]\n",
      " [2.348118 2.098629 2.030333 2.143231 2.437321 2.912604 3.56908 ]\n",
      " [2.43008  2.180592 2.112296 2.225193 2.519283 2.994566 3.651042]\n",
      " [2.565097 2.315609 2.247313 2.36021  2.6543   3.129583 3.786059]\n",
      " [2.753169 2.50368  2.435384 2.548281 2.842371 3.317655 3.974131]\n",
      " [2.994295 2.744806 2.67651  2.789407 3.083497 3.55878  4.215256]\n",
      " [3.288475 3.038986 2.97069  3.083588 3.377678 3.852961 4.509437]\n",
      " [3.63571  3.386221 3.317925 3.430822 3.724913 4.200196 4.856672]\n",
      " [4.035999 3.78651  3.718215 3.831112 4.125202 4.600485 5.      ]]\n"
     ]
    }
   ],
   "source": [
    "# compute desired_years for selected age-OVR pairs\n",
    "print('Columns are OVRs from 70 to 100 by 5s, rows are ages from 21 to 35.')\n",
    "print('Each entry is the desired contract length at that age and OVR.\\n')\n",
    "\n",
    "results_matrix = np.ones((14, 7))\n",
    "for x_age in range(21, 35):\n",
    "    for x_ovr in range(70, 101, 5):\n",
    "        age_idx = x_age - 21\n",
    "        ovr_idx = int((x_ovr - 70) / 5)\n",
    "        results_matrix[age_idx, ovr_idx] = get_desired_years(x_age, x_ovr)\n",
    "        \n",
    "print(results_matrix)\n"
   ]
  },
  {
   "cell_type": "code",
   "execution_count": 14,
   "metadata": {},
   "outputs": [
    {
     "data": {
      "image/png": "[encoded data removed]",
      "text/plain": [
       "<Figure size 432x288 with 1 Axes>"
      ]
     },
     "metadata": {
      "needs_background": "light"
     },
     "output_type": "display_data"
    }
   ],
   "source": [
    "#Parameters to set\n",
    "mu_x = gm.means_[0,0] \n",
    "variance_x = gm.covariances_[0,0]\n",
    "\n",
    "mu_y = gm.means_[0,1] \n",
    "variance_y = gm.covariances_[0,1]\n",
    "\n",
    "#Create grid and multivariate normal\n",
    "x = np.linspace(20,40,100)\n",
    "y = np.linspace(40,100,100)\n",
    "X, Y = np.meshgrid(x,y)\n",
    "pos = np.empty(X.shape + (2,))\n",
    "pos[:, :, 0] = X; pos[:, :, 1] = Y\n",
    "rv = multivariate_normal([mu_x, mu_y], [[variance_x, 0], [0, variance_y]])\n",
    "\n",
    "#Make a 3D plot\n",
    "fig = plt.figure()\n",
    "ax = fig.gca(projection='3d')\n",
    "ax.plot_surface(X, Y, rv.pdf(pos),cmap='inferno',linewidth=0)\n",
    "ax.set_xlabel('Age')\n",
    "ax.set_ylabel('OVR')\n",
    "ax.set_zlabel('PDF Value')\n",
    "plt.show()\n"
   ]
  },
  {
   "cell_type": "code",
   "execution_count": 15,
   "metadata": {},
   "outputs": [
    {
     "name": "stdout",
     "output_type": "stream",
     "text": [
      "2.7690579968772626\n",
      "2.23302882339504\n",
      "2.3510108943726693\n",
      "2.1976714655570864\n",
      "2.2265793739401674\n",
      "4.1865287461631615\n",
      "2.9036982394500224\n",
      "3.4390045043356086\n",
      "2.666746290424025\n",
      "3.08321863535755\n"
     ]
    }
   ],
   "source": [
    "# testing on actual players\n",
    "# x_age = 25.955\n",
    "# x_ovr = 79.385\n",
    "ages = [30, 23, 29, 26, 27, 34, 30, 32, 28, 30]\n",
    "ovrs = [89, 80, 74, 72, 72, 68, 68, 68, 67, 66]\n",
    "\n",
    "for i in range(len(ages)):\n",
    "    age = ages[i]\n",
    "    ovr = ovrs[i]\n",
    "    print(get_desired_years(age, ovr))"
   ]
  }
 ],
 "metadata": {
  "kernelspec": {
   "display_name": "Python 3",
   "language": "python",
   "name": "python3"
  },
  "language_info": {
   "codemirror_mode": {
    "name": "ipython",
    "version": 3
   },
   "file_extension": ".py",
   "mimetype": "text/x-python",
   "name": "python",
   "nbconvert_exporter": "python",
   "pygments_lexer": "ipython3",
   "version": "3.7.4"
  }
 },
 "nbformat": 4,
 "nbformat_minor": 2
}
